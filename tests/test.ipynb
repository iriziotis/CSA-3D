{
 "cells": [
  {
   "cell_type": "code",
   "execution_count": 4,
   "metadata": {},
   "outputs": [],
   "source": [
    "import pickle"
   ]
  },
  {
   "cell_type": "code",
   "execution_count": 5,
   "metadata": {},
   "outputs": [
    {
     "name": "stderr",
     "output_type": "stream",
     "text": [
      "RDKit WARNING: [18:19:16] Enabling RDKit 2019.09.3 jupyter extensions\n"
     ]
    }
   ],
   "source": [
    "entry = pickle.load(open('./entries/csa3d_0001.ent','rb'))"
   ]
  },
  {
   "cell_type": "code",
   "execution_count": 10,
   "metadata": {},
   "outputs": [
    {
     "data": {
      "text/plain": [
       "[{'count': 1,\n",
       "  'type': 'reactant',\n",
       "  'chebi_id': '29985',\n",
       "  'name': 'L-glutamate(1-)',\n",
       "  'mol_file': 'www.ebi.ac.uk/thornton-srv/m-csa/media/compound_mols/29985_NxkMYSC.mol'},\n",
       " {'count': 1,\n",
       "  'type': 'product',\n",
       "  'chebi_id': '29986',\n",
       "  'name': 'D-glutamate(1-)',\n",
       "  'mol_file': 'www.ebi.ac.uk/thornton-srv/m-csa/media/compound_mols/29986_SGvN4YB.mol'}]"
      ]
     },
     "execution_count": 10,
     "metadata": {},
     "output_type": "execute_result"
    }
   ],
   "source": [
    "entry.info['reaction']['compounds']"
   ]
  },
  {
   "cell_type": "code",
   "execution_count": null,
   "metadata": {},
   "outputs": [],
   "source": []
  }
 ],
 "metadata": {
  "kernelspec": {
   "display_name": "Python 3",
   "language": "python",
   "name": "python3"
  },
  "language_info": {
   "codemirror_mode": {
    "name": "ipython",
    "version": 3
   },
   "file_extension": ".py",
   "mimetype": "text/x-python",
   "name": "python",
   "nbconvert_exporter": "python",
   "pygments_lexer": "ipython3",
   "version": "3.8.1"
  }
 },
 "nbformat": 4,
 "nbformat_minor": 4
}
