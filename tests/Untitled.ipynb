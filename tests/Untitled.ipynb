{
 "cells": [
  {
   "cell_type": "code",
   "execution_count": 1,
   "id": "d5290377",
   "metadata": {},
   "outputs": [],
   "source": [
    "import pickle"
   ]
  },
  {
   "cell_type": "code",
   "execution_count": 2,
   "id": "69fade5e",
   "metadata": {},
   "outputs": [],
   "source": [
    "entry_path = '/nfs/research/thornton/riziotis/research/phd/data/csa3d/entries/entries/csa3d_0104.ent'"
   ]
  },
  {
   "cell_type": "code",
   "execution_count": 3,
   "id": "6fc59ee9",
   "metadata": {},
   "outputs": [
    {
     "name": "stderr",
     "output_type": "stream",
     "text": [
      "/nfs/research/thornton/riziotis/research/biopython/Bio/PDB/QCPSuperimposer/__init__.py:24: BiopythonDeprecationWarning: The QCPSuperimposer module will be removed soon in favor of qcprot. The API will remain largely the same.\n",
      "  warnings.warn(\n"
     ]
    }
   ],
   "source": [
    "entry = pickle.load(open(entry_path, 'rb'))"
   ]
  },
  {
   "cell_type": "code",
   "execution_count": 4,
   "id": "c2e952ba",
   "metadata": {},
   "outputs": [],
   "source": [
    "template = entry.create_template()"
   ]
  },
  {
   "cell_type": "code",
   "execution_count": 5,
   "id": "fb606485",
   "metadata": {},
   "outputs": [],
   "source": [
    "groups = entry.break_template(template)"
   ]
  },
  {
   "cell_type": "code",
   "execution_count": 6,
   "id": "6ac6312a",
   "metadata": {},
   "outputs": [
    {
     "name": "stdout",
     "output_type": "stream",
     "text": [
      "[4 3 0]\n",
      "[5 6 2]\n"
     ]
    }
   ],
   "source": [
    "for i, group in enumerate(groups):\n",
    "    print(group)\n",
    "    entry.write_template(template, subset=None, residues=group, outfile=f'{i}.pdb')"
   ]
  },
  {
   "cell_type": "code",
   "execution_count": null,
   "id": "1c6acfd5",
   "metadata": {},
   "outputs": [],
   "source": []
  }
 ],
 "metadata": {
  "kernelspec": {
   "display_name": "Python 3 (ipykernel)",
   "language": "python",
   "name": "python3"
  },
  "language_info": {
   "codemirror_mode": {
    "name": "ipython",
    "version": 3
   },
   "file_extension": ".py",
   "mimetype": "text/x-python",
   "name": "python",
   "nbconvert_exporter": "python",
   "pygments_lexer": "ipython3",
   "version": "3.8.13"
  }
 },
 "nbformat": 4,
 "nbformat_minor": 5
}
