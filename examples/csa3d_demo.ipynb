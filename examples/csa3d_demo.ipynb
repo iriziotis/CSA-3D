{
 "cells": [
  {
   "cell_type": "markdown",
   "metadata": {
    "collapsed": true,
    "pycharm": {
     "name": "#%% md\n"
    }
   },
   "source": [
    "## CSA-3D active site superposition tests\n",
    "Exported entries from the mcsa3d package (with `pickle`) can be loaded and used as normal without having to rebuild\n",
    "them each time. This significantly saves times and holds the advantage that the methods code in the packaged can be\n",
    "modified and take effect in runtime, without having to rebuild the objects.\n",
    "\n",
    "Here we will make some example active site superpositions to test the fitting and PDB writting methods.\n"
   ]
  },
  {
   "cell_type": "markdown",
   "metadata": {
    "pycharm": {
     "name": "#%% md\n"
    }
   },
   "source": [
    "### Imports"
   ]
  },
  {
   "cell_type": "code",
   "execution_count": 1,
   "metadata": {
    "pycharm": {
     "name": "#%%\n"
    }
   },
   "outputs": [],
   "source": [
    "import os\n",
    "import pickle\n",
    "from time import time"
   ]
  },
  {
   "cell_type": "markdown",
   "metadata": {
    "pycharm": {
     "name": "#%% md\n"
    }
   },
   "source": [
    "### Load pickled entry\n",
    "\n",
    "An medium-sized entry like M-CSA 4 (~400 PDB homologues) took around 2 mins to build, including all annotations and redundancy reduction. Parallelizing all 1000 entries is straightforward and should not take too long to build the whole database."
   ]
  },
  {
   "cell_type": "code",
   "execution_count": 2,
   "metadata": {
    "pycharm": {
     "name": "#%%\n"
    }
   },
   "outputs": [
    {
     "name": "stdout",
     "output_type": "stream",
     "text": [
      "Loading time: 4.457903 seconds\n"
     ]
    }
   ],
   "source": [
    "i = time()\n",
    "with open('./csa3d_0005.ent', 'rb') as f: # Read as binary\n",
    "    entry = pickle.load(f)\n",
    "f = time()\n",
    "print('Loading time: {:3f} seconds'.format(f-i))"
   ]
  },
  {
   "cell_type": "markdown",
   "metadata": {
    "pycharm": {
     "name": "#%% md\n"
    }
   },
   "source": [
    "### Test printing some PDB sites in pseudo-sequence\n",
    "\n",
    "We simply use `str(pdbsite)` or directly `print(pdbsite)` to get pseudo-sequence representation. Non-aligned residues are marked as gaps (`_`)"
   ]
  },
  {
   "cell_type": "code",
   "execution_count": 3,
   "metadata": {
    "pycharm": {
     "name": "#%%\n"
    }
   },
   "outputs": [
    {
     "name": "stdout",
     "output_type": "stream",
     "text": [
      "1whs_A-A-B-B-A YGDHS\n",
      "3sc2_A-A-B-B-A YGDHS\n",
      "1gxs_C-C-D-D-C EGDHG\n",
      "4cib_A-A-A-A-A YGDHS\n",
      "1bcr_A-A-B-B-A YGDHS\n",
      "4mws_A-A-A-A-A YGDHS\n",
      "4mwt_A-A-A-A-A YGDHS\n",
      "1ivy_B-B-B-B-B YGDHS\n",
      "1cpy_A-A---A YG__S\n",
      "1bcs_A-A-B-B-A YGDHS\n",
      "4az0_A-A-B-B-A YGDHS\n"
     ]
    }
   ],
   "source": [
    "for i, pdbsite in enumerate(entry.pdbsites):\n",
    "    print(pdbsite.id, pdbsite)\n",
    "    if i==10:\n",
    "        break"
   ]
  },
  {
   "cell_type": "markdown",
   "metadata": {
    "pycharm": {
     "name": "#%% md\n"
    }
   },
   "source": [
    "### Fit sites to reference\n",
    "`pdbsite.fit(other_pdbsite, cycles=10, cutoff=6, mutate=True, reorder=True, tranform=False)` function\n",
    "outputs the rotation matrix and translation vector of the fitting, the RMSD of the fitted atoms\n",
    "(excluding outliers) as well as the RMSD over all atoms, including outliers. We can also select the number of outlier\n",
    "rejection iterations and a distance cutoff, with default 10 cycles and 6Ang respectively. Atom reordering within a residue\n",
    "is possible with `reorder`. This is particularly useful when fitting residues with symmetrical atoms like Asp or His.\n",
    "When comparing sites that might have different residues, we can use `mutate` to introduce pseudo-mutations to facilitate\n",
    "superposition. Non-aligned residues in sequence are automatically excluded from the fitting. If `transform` is True\n",
    "then the coordinates of the site will be automatically transformed. Otherwise we can use the rotation/translation\n",
    "matrices to do the transformation manually using the `site.structure.transform(rot, tran)` function."
   ]
  },
  {
   "cell_type": "code",
   "execution_count": 4,
   "metadata": {
    "pycharm": {
     "name": "#%%\n"
    }
   },
   "outputs": [],
   "source": [
    "conserved = dict() # To store RMSD values of conserved sites\n",
    "non_conserved = dict() # To store RMSD values of non-conserved sites\n",
    "for pdbsite in entry.pdbsites:\n",
    "    rot, tran, rms, rms_all = pdbsite.reference_site.fit(pdbsite, cycles=5, cutoff=6, transform=True)\n",
    "    if rms_all < 10:\n",
    "        if pdbsite.is_conserved or pdbsite.is_conservative_mutation: # To fit only conserved active sites\n",
    "                                                                     # or sites with conservative mutations\n",
    "            conserved[pdbsite.id] = (rms, rms_all)\n",
    "        else:\n",
    "            non_conserved[pdbsite.id] = (rms, rms_all)"
   ]
  },
  {
   "cell_type": "markdown",
   "metadata": {
    "pycharm": {
     "name": "#%% md\n"
    }
   },
   "source": [
    "### Show some RMSD values"
   ]
  },
  {
   "cell_type": "code",
   "execution_count": 5,
   "metadata": {
    "pycharm": {
     "name": "#%%\n"
    }
   },
   "outputs": [
    {
     "name": "stdout",
     "output_type": "stream",
     "text": [
      "1gxs_C-C-D-D-C (1.933, 3.83)\n",
      "1cpy_A-A---A (0.563, 0.563)\n",
      "1ac5_A-A---A (0.534, 0.534)\n",
      "1ysc_A-A---A (0.628, 0.628)\n",
      "1wpx_A-A---A (0.693, 0.693)\n"
     ]
    }
   ],
   "source": [
    "i=0\n",
    "for k,v in non_conserved.items():\n",
    "    print(k, v)\n",
    "    if i==10:\n",
    "        break\n",
    "    i+=1"
   ]
  },
  {
   "cell_type": "markdown",
   "metadata": {
    "pycharm": {
     "name": "#%% md\n"
    }
   },
   "source": [
    "### Compute RMSD variance for conserved and non-conserved"
   ]
  },
  {
   "cell_type": "code",
   "execution_count": 6,
   "metadata": {
    "pycharm": {
     "name": "#%%\n"
    }
   },
   "outputs": [
    {
     "name": "stdout",
     "output_type": "stream",
     "text": [
      "Variance of RMSD over all atoms\n",
      "Conserved: 0.037303\n",
      "Non-conserved: 1.667631\n"
     ]
    }
   ],
   "source": [
    "import numpy as np\n",
    "\n",
    "cons_rms_all = np.array([v[1] for v in conserved.values()])\n",
    "non_cons_rms_all = np.array([v[1] for v in non_conserved.values()])\n",
    "print('Variance of RMSD over all atoms')\n",
    "print('Conserved: {:5f}'.format(np.var(cons_rms_all)))\n",
    "print('Non-conserved: {:5f}'.format(np.var(non_cons_rms_all)))"
   ]
  },
  {
   "cell_type": "markdown",
   "metadata": {},
   "source": [
    "### Draw Sequence logos\n",
    "\n",
    "We can dump pseudosequences in a list and use `logomaker` to produce WebLogo-like sequence logos. Pretty useful package."
   ]
  },
  {
   "cell_type": "code",
   "execution_count": 7,
   "metadata": {
    "pycharm": {
     "name": "#%%\n"
    }
   },
   "outputs": [
    {
     "data": {
      "text/html": [
       "<style>.container { width:70% !important; }</style>"
      ],
      "text/plain": [
       "<IPython.core.display.HTML object>"
      ]
     },
     "metadata": {},
     "output_type": "display_data"
    },
    {
     "data": {
      "text/plain": [
       "Text(0.5, 1.0, 'Non-conserved PDB sites')"
      ]
     },
     "execution_count": 7,
     "metadata": {},
     "output_type": "execute_result"
    },
    {
     "data": {
      "image/png": "[encoded data removed]",
      "text/plain": [
       "<Figure size 1080x324 with 2 Axes>"
      ]
     },
     "metadata": {
      "needs_background": "light"
     },
     "output_type": "display_data"
    }
   ],
   "source": [
    "import logomaker as lm\n",
    "import matplotlib as mpl\n",
    "import matplotlib.pyplot as plt\n",
    "import matplotlib.gridspec as gridspec\n",
    "from IPython.display import Image\n",
    "from IPython.core.display import display, HTML\n",
    "display(HTML(\"<style>.container { width:70% !important; }</style>\"))\n",
    "#%matplotlib inline\n",
    "\n",
    "# Dump seqs in lists\n",
    "conserved_seqs = []\n",
    "non_conserved_seqs = []\n",
    "for id in conserved:\n",
    "    pdbsite = entry.get_pdbsite(id)\n",
    "    conserved_seqs.append(str(pdbsite))\n",
    "for id in non_conserved:\n",
    "    pdbsite = entry.get_pdbsite(id)\n",
    "    non_conserved_seqs.append(str(pdbsite))\n",
    "\n",
    "# Make logo matrices\n",
    "mat1 = lm.alignment_to_matrix(conserved_seqs, pseudocount=0, to_type='information', characters_to_ignore='_X')\n",
    "mat2 = lm.alignment_to_matrix(non_conserved_seqs, pseudocount=0, to_type='information', characters_to_ignore='_X')\n",
    "\n",
    "# Define y axis limits\n",
    "ylim = max(mat1.max().max(), mat2.max().max())\n",
    "\n",
    "# set default styling \n",
    "fontsize=6\n",
    "mpl.rcParams['font.size'] = fontsize\n",
    "mpl.rcParams['text.usetex'] = False\n",
    "\n",
    "# create figure and gridspec\n",
    "fig = plt.figure(figsize=(15, 4.5))\n",
    "fig.suptitle('M-CSA entry {}'.format(entry.mcsa_id), fontsize=20)\n",
    "gs = gridspec.GridSpec(nrows=1, ncols=2)\n",
    "\n",
    "# Conserved Logo\n",
    "ax = fig.add_subplot(gs[0, 0])\n",
    "logo = lm.Logo(mat1, ax=ax, color_scheme='weblogo_protein')\n",
    "logo.ax.set_ylim([0, ylim])\n",
    "logo.ax.set_ylabel('Bits')\n",
    "logo.ax.set_title('Conserved PDB sites', fontsize=15)\n",
    "\n",
    "# Non-conserved Logo\n",
    "ax = fig.add_subplot(gs[0, 1])\n",
    "logo = lm.Logo(mat2, ax=ax, color_scheme='weblogo_protein')\n",
    "logo.ax.set_ylim([0, ylim])\n",
    "logo.ax.set_ylabel('Bits')\n",
    "logo.ax.set_title('Non-conserved PDB sites', fontsize=15)"
   ]
  },
  {
   "cell_type": "markdown",
   "metadata": {
    "pycharm": {
     "name": "#%% md\n"
    }
   },
   "source": [
    "### Write PDB files\n",
    "\n",
    "`pdbsite.write_pdb(outfile=None, outdir=None, write_hets=True, func_atoms_only=True)` writes active sites in PDB format,\n",
    "including REMARK entries with all annotations. If outfile is not specified, a unique filename is used, containing info like\n",
    "M-CSA ID, PDB ID, chains, and conservation (c: conserved, m: mutated, cm: only conservative mutatations) We have options\n",
    "to write nearby hetero components coordinates (`write_hets`) and write only functional atoms in the PDB (`func_atoms_only`).\n",
    "\n",
    "We want to make a series of figures demonstrating the capabilities of the package, so we will use our own filenames."
   ]
  },
  {
   "cell_type": "code",
   "execution_count": 8,
   "metadata": {
    "pycharm": {
     "name": "#%%\n"
    }
   },
   "outputs": [],
   "source": [
    "try:\n",
    "    os.makedirs('out/conserved/')\n",
    "    os.makedirs('out/non-conserved/')\n",
    "except FileExistsError:\n",
    "    pass\n",
    "for id in conserved:\n",
    "    pdbsite = entry.get_pdbsite(id) # To get a site from the entry by unique ID\n",
    "    pdbsite.write_pdb(outdir='out/conserved/', write_hets=False, func_atoms_only=True)\n",
    "    pdbsite.write_pdb(outdir='out/conserved/', write_hets=True, func_atoms_only=False)\n",
    "\n",
    "for id in non_conserved:\n",
    "    pdbsite = entry.get_pdbsite(id) # To get a site from the entry by unique ID\n",
    "    pdbsite.write_pdb(outdir='out/non-conserved/', write_hets=False, func_atoms_only=True)\n",
    "    pdbsite.write_pdb(outdir='out/non-conserved/', write_hets=True, func_atoms_only=False)"
   ]
  }
 ],
 "metadata": {
  "kernelspec": {
   "display_name": "Python 3",
   "language": "python",
   "name": "python3"
  },
  "language_info": {
   "codemirror_mode": {
    "name": "ipython",
    "version": 3
   },
   "file_extension": ".py",
   "mimetype": "text/x-python",
   "name": "python",
   "nbconvert_exporter": "python",
   "pygments_lexer": "ipython3",
   "version": "3.8.1"
  }
 },
 "nbformat": 4,
 "nbformat_minor": 1
}
